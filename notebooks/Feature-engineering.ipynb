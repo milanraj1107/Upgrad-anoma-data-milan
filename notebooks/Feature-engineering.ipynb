{
 "cells": [
  {
   "cell_type": "markdown",
   "id": "a2e16601",
   "metadata": {},
   "source": [
    "## Importing Libraries"
   ]
  },
  {
   "cell_type": "code",
   "execution_count": 1,
   "id": "92f56d49",
   "metadata": {},
   "outputs": [],
   "source": [
    "import pandas as pd\n",
    "import numpy as np\n",
    "import matplotlib.pyplot as plt\n",
    "import seaborn as sns\n",
    "\n",
    "from sklearn.feature_selection import SelectKBest\n",
    "from sklearn.feature_selection import mutual_info_classif\n",
    "from sklearn.feature_selection import f_classif"
   ]
  },
  {
   "cell_type": "markdown",
   "id": "c6513c0e",
   "metadata": {},
   "source": [
    "## Data Reading"
   ]
  },
  {
   "cell_type": "code",
   "execution_count": 2,
   "id": "5507c6a9",
   "metadata": {},
   "outputs": [],
   "source": [
    "df_input = pd.read_excel(\"../data/cleaned_input.xlsx\")"
   ]
  },
  {
   "cell_type": "code",
   "execution_count": 3,
   "id": "92540e80",
   "metadata": {},
   "outputs": [],
   "source": [
    "df_output = pd.read_excel(\"../data/cleaned_output.xlsx\")"
   ]
  },
  {
   "cell_type": "code",
   "execution_count": 4,
   "id": "870a5ecf",
   "metadata": {},
   "outputs": [
    {
     "data": {
      "text/html": [
       "<div>\n",
       "<style scoped>\n",
       "    .dataframe tbody tr th:only-of-type {\n",
       "        vertical-align: middle;\n",
       "    }\n",
       "\n",
       "    .dataframe tbody tr th {\n",
       "        vertical-align: top;\n",
       "    }\n",
       "\n",
       "    .dataframe thead th {\n",
       "        text-align: right;\n",
       "    }\n",
       "</style>\n",
       "<table border=\"1\" class=\"dataframe\">\n",
       "  <thead>\n",
       "    <tr style=\"text-align: right;\">\n",
       "      <th></th>\n",
       "      <th>Unnamed: 0</th>\n",
       "      <th>x1</th>\n",
       "      <th>x2</th>\n",
       "      <th>x3</th>\n",
       "      <th>x4</th>\n",
       "      <th>x5</th>\n",
       "      <th>x6</th>\n",
       "      <th>x7</th>\n",
       "      <th>x8</th>\n",
       "      <th>x9</th>\n",
       "      <th>...</th>\n",
       "      <th>x50</th>\n",
       "      <th>x51</th>\n",
       "      <th>x52</th>\n",
       "      <th>x54</th>\n",
       "      <th>x55</th>\n",
       "      <th>x56</th>\n",
       "      <th>x57</th>\n",
       "      <th>x58</th>\n",
       "      <th>x59</th>\n",
       "      <th>x60</th>\n",
       "    </tr>\n",
       "  </thead>\n",
       "  <tbody>\n",
       "    <tr>\n",
       "      <th>0</th>\n",
       "      <td>0</td>\n",
       "      <td>0.376665</td>\n",
       "      <td>-2.158235</td>\n",
       "      <td>-3.537054</td>\n",
       "      <td>13.497687</td>\n",
       "      <td>-0.118830</td>\n",
       "      <td>-20.669883</td>\n",
       "      <td>0.000732</td>\n",
       "      <td>-0.051043</td>\n",
       "      <td>-0.059966</td>\n",
       "      <td>...</td>\n",
       "      <td>6.14861</td>\n",
       "      <td>29.984624</td>\n",
       "      <td>5.109543</td>\n",
       "      <td>0.48778</td>\n",
       "      <td>-24.590146</td>\n",
       "      <td>18.515436</td>\n",
       "      <td>2.222118</td>\n",
       "      <td>0.020991</td>\n",
       "      <td>0.953219</td>\n",
       "      <td>0.004087</td>\n",
       "    </tr>\n",
       "    <tr>\n",
       "      <th>1</th>\n",
       "      <td>1</td>\n",
       "      <td>0.421222</td>\n",
       "      <td>-2.158235</td>\n",
       "      <td>-3.537054</td>\n",
       "      <td>16.230659</td>\n",
       "      <td>-0.128733</td>\n",
       "      <td>-18.758079</td>\n",
       "      <td>0.000732</td>\n",
       "      <td>-0.051043</td>\n",
       "      <td>-0.059966</td>\n",
       "      <td>...</td>\n",
       "      <td>6.14861</td>\n",
       "      <td>29.984624</td>\n",
       "      <td>5.109543</td>\n",
       "      <td>0.48778</td>\n",
       "      <td>-32.413266</td>\n",
       "      <td>22.760065</td>\n",
       "      <td>2.222118</td>\n",
       "      <td>0.020991</td>\n",
       "      <td>1.090502</td>\n",
       "      <td>0.004087</td>\n",
       "    </tr>\n",
       "    <tr>\n",
       "      <th>2</th>\n",
       "      <td>2</td>\n",
       "      <td>0.363848</td>\n",
       "      <td>-2.158235</td>\n",
       "      <td>-3.537054</td>\n",
       "      <td>14.127997</td>\n",
       "      <td>-0.138636</td>\n",
       "      <td>-17.836632</td>\n",
       "      <td>0.010803</td>\n",
       "      <td>-0.051043</td>\n",
       "      <td>-0.030057</td>\n",
       "      <td>...</td>\n",
       "      <td>6.14861</td>\n",
       "      <td>29.984624</td>\n",
       "      <td>5.109543</td>\n",
       "      <td>0.48778</td>\n",
       "      <td>-34.183774</td>\n",
       "      <td>27.004663</td>\n",
       "      <td>2.222118</td>\n",
       "      <td>0.020991</td>\n",
       "      <td>1.266506</td>\n",
       "      <td>0.004087</td>\n",
       "    </tr>\n",
       "    <tr>\n",
       "      <th>3</th>\n",
       "      <td>3</td>\n",
       "      <td>0.301590</td>\n",
       "      <td>-2.158235</td>\n",
       "      <td>-3.537054</td>\n",
       "      <td>13.161566</td>\n",
       "      <td>-0.148142</td>\n",
       "      <td>-18.517601</td>\n",
       "      <td>0.002075</td>\n",
       "      <td>-0.051043</td>\n",
       "      <td>-0.019986</td>\n",
       "      <td>...</td>\n",
       "      <td>6.14861</td>\n",
       "      <td>29.984624</td>\n",
       "      <td>5.109543</td>\n",
       "      <td>0.48778</td>\n",
       "      <td>-35.954281</td>\n",
       "      <td>21.672449</td>\n",
       "      <td>2.222118</td>\n",
       "      <td>0.020991</td>\n",
       "      <td>1.266506</td>\n",
       "      <td>0.004087</td>\n",
       "    </tr>\n",
       "    <tr>\n",
       "      <th>4</th>\n",
       "      <td>4</td>\n",
       "      <td>0.265578</td>\n",
       "      <td>-2.158235</td>\n",
       "      <td>-3.537054</td>\n",
       "      <td>15.267340</td>\n",
       "      <td>-0.155314</td>\n",
       "      <td>-17.505913</td>\n",
       "      <td>0.000732</td>\n",
       "      <td>-0.051043</td>\n",
       "      <td>-0.030057</td>\n",
       "      <td>...</td>\n",
       "      <td>6.14861</td>\n",
       "      <td>29.984624</td>\n",
       "      <td>5.109543</td>\n",
       "      <td>0.48778</td>\n",
       "      <td>-37.724789</td>\n",
       "      <td>21.907251</td>\n",
       "      <td>2.222118</td>\n",
       "      <td>0.020991</td>\n",
       "      <td>1.266506</td>\n",
       "      <td>0.004087</td>\n",
       "    </tr>\n",
       "  </tbody>\n",
       "</table>\n",
       "<p>5 rows × 60 columns</p>\n",
       "</div>"
      ],
      "text/plain": [
       "   Unnamed: 0        x1        x2        x3         x4        x5         x6  \\\n",
       "0           0  0.376665 -2.158235 -3.537054  13.497687 -0.118830 -20.669883   \n",
       "1           1  0.421222 -2.158235 -3.537054  16.230659 -0.128733 -18.758079   \n",
       "2           2  0.363848 -2.158235 -3.537054  14.127997 -0.138636 -17.836632   \n",
       "3           3  0.301590 -2.158235 -3.537054  13.161566 -0.148142 -18.517601   \n",
       "4           4  0.265578 -2.158235 -3.537054  15.267340 -0.155314 -17.505913   \n",
       "\n",
       "         x7        x8        x9  ...      x50        x51       x52      x54  \\\n",
       "0  0.000732 -0.051043 -0.059966  ...  6.14861  29.984624  5.109543  0.48778   \n",
       "1  0.000732 -0.051043 -0.059966  ...  6.14861  29.984624  5.109543  0.48778   \n",
       "2  0.010803 -0.051043 -0.030057  ...  6.14861  29.984624  5.109543  0.48778   \n",
       "3  0.002075 -0.051043 -0.019986  ...  6.14861  29.984624  5.109543  0.48778   \n",
       "4  0.000732 -0.051043 -0.030057  ...  6.14861  29.984624  5.109543  0.48778   \n",
       "\n",
       "         x55        x56       x57       x58       x59       x60  \n",
       "0 -24.590146  18.515436  2.222118  0.020991  0.953219  0.004087  \n",
       "1 -32.413266  22.760065  2.222118  0.020991  1.090502  0.004087  \n",
       "2 -34.183774  27.004663  2.222118  0.020991  1.266506  0.004087  \n",
       "3 -35.954281  21.672449  2.222118  0.020991  1.266506  0.004087  \n",
       "4 -37.724789  21.907251  2.222118  0.020991  1.266506  0.004087  \n",
       "\n",
       "[5 rows x 60 columns]"
      ]
     },
     "execution_count": 4,
     "metadata": {},
     "output_type": "execute_result"
    }
   ],
   "source": [
    "df_input.head(5)"
   ]
  },
  {
   "cell_type": "code",
   "execution_count": 5,
   "id": "4586ebe9",
   "metadata": {},
   "outputs": [
    {
     "data": {
      "text/html": [
       "<div>\n",
       "<style scoped>\n",
       "    .dataframe tbody tr th:only-of-type {\n",
       "        vertical-align: middle;\n",
       "    }\n",
       "\n",
       "    .dataframe tbody tr th {\n",
       "        vertical-align: top;\n",
       "    }\n",
       "\n",
       "    .dataframe thead th {\n",
       "        text-align: right;\n",
       "    }\n",
       "</style>\n",
       "<table border=\"1\" class=\"dataframe\">\n",
       "  <thead>\n",
       "    <tr style=\"text-align: right;\">\n",
       "      <th></th>\n",
       "      <th>Unnamed: 0</th>\n",
       "      <th>y</th>\n",
       "    </tr>\n",
       "  </thead>\n",
       "  <tbody>\n",
       "    <tr>\n",
       "      <th>0</th>\n",
       "      <td>0</td>\n",
       "      <td>0</td>\n",
       "    </tr>\n",
       "    <tr>\n",
       "      <th>1</th>\n",
       "      <td>1</td>\n",
       "      <td>0</td>\n",
       "    </tr>\n",
       "    <tr>\n",
       "      <th>2</th>\n",
       "      <td>2</td>\n",
       "      <td>0</td>\n",
       "    </tr>\n",
       "    <tr>\n",
       "      <th>3</th>\n",
       "      <td>3</td>\n",
       "      <td>0</td>\n",
       "    </tr>\n",
       "    <tr>\n",
       "      <th>4</th>\n",
       "      <td>4</td>\n",
       "      <td>0</td>\n",
       "    </tr>\n",
       "  </tbody>\n",
       "</table>\n",
       "</div>"
      ],
      "text/plain": [
       "   Unnamed: 0  y\n",
       "0           0  0\n",
       "1           1  0\n",
       "2           2  0\n",
       "3           3  0\n",
       "4           4  0"
      ]
     },
     "execution_count": 5,
     "metadata": {},
     "output_type": "execute_result"
    }
   ],
   "source": [
    "df_output.head(5)"
   ]
  },
  {
   "cell_type": "code",
   "execution_count": 4,
   "id": "ceead0fe",
   "metadata": {},
   "outputs": [
    {
     "data": {
      "text/plain": [
       "(18398, 62)"
      ]
     },
     "execution_count": 4,
     "metadata": {},
     "output_type": "execute_result"
    }
   ],
   "source": [
    "df_input.shape"
   ]
  },
  {
   "cell_type": "code",
   "execution_count": 6,
   "id": "8a3bcd9e",
   "metadata": {},
   "outputs": [
    {
     "data": {
      "text/plain": [
       "(18398, 2)"
      ]
     },
     "execution_count": 6,
     "metadata": {},
     "output_type": "execute_result"
    }
   ],
   "source": [
    "df_output.shape"
   ]
  },
  {
   "cell_type": "code",
   "execution_count": 7,
   "id": "3611d735",
   "metadata": {},
   "outputs": [],
   "source": [
    "X = df_input[['x1', 'x2', 'x3', 'x4', 'x5', 'x6', 'x7', 'x8', 'x9',\n",
    "       'x10', 'x11', 'x12', 'x13', 'x14', 'x15', 'x16', 'x17', 'x18', 'x19',\n",
    "       'x20', 'x21', 'x22', 'x23', 'x24', 'x25', 'x26', 'x27', 'x28', 'x29',\n",
    "       'x30', 'x31', 'x32', 'x33', 'x34', 'x35', 'x36', 'x37', 'x38', 'x39',\n",
    "       'x40', 'x41', 'x42', 'x43', 'x44', 'x45', 'x46', 'x47', 'x48', 'x49',\n",
    "       'x50', 'x51', 'x52', 'x54', 'x55', 'x56', 'x57', 'x58', 'x59', 'x60']].values"
   ]
  },
  {
   "cell_type": "code",
   "execution_count": 8,
   "id": "88d1e563",
   "metadata": {},
   "outputs": [],
   "source": [
    "y = df_output[['y']].values"
   ]
  },
  {
   "cell_type": "markdown",
   "id": "3fa18a11",
   "metadata": {},
   "source": [
    "## mutual info test"
   ]
  },
  {
   "cell_type": "code",
   "execution_count": 20,
   "id": "661f58a0",
   "metadata": {},
   "outputs": [],
   "source": [
    "fs = SelectKBest(score_func=mutual_info_classif, k='all')"
   ]
  },
  {
   "cell_type": "code",
   "execution_count": 21,
   "id": "bdbd1f29",
   "metadata": {},
   "outputs": [
    {
     "name": "stderr",
     "output_type": "stream",
     "text": [
      "C:\\Users\\mehul\\anaconda3\\lib\\site-packages\\sklearn\\utils\\validation.py:1183: DataConversionWarning: A column-vector y was passed when a 1d array was expected. Please change the shape of y to (n_samples, ), for example using ravel().\n",
      "  y = column_or_1d(y, warn=True)\n"
     ]
    },
    {
     "data": {
      "text/html": [
       "<style>#sk-container-id-3 {color: black;}#sk-container-id-3 pre{padding: 0;}#sk-container-id-3 div.sk-toggleable {background-color: white;}#sk-container-id-3 label.sk-toggleable__label {cursor: pointer;display: block;width: 100%;margin-bottom: 0;padding: 0.3em;box-sizing: border-box;text-align: center;}#sk-container-id-3 label.sk-toggleable__label-arrow:before {content: \"▸\";float: left;margin-right: 0.25em;color: #696969;}#sk-container-id-3 label.sk-toggleable__label-arrow:hover:before {color: black;}#sk-container-id-3 div.sk-estimator:hover label.sk-toggleable__label-arrow:before {color: black;}#sk-container-id-3 div.sk-toggleable__content {max-height: 0;max-width: 0;overflow: hidden;text-align: left;background-color: #f0f8ff;}#sk-container-id-3 div.sk-toggleable__content pre {margin: 0.2em;color: black;border-radius: 0.25em;background-color: #f0f8ff;}#sk-container-id-3 input.sk-toggleable__control:checked~div.sk-toggleable__content {max-height: 200px;max-width: 100%;overflow: auto;}#sk-container-id-3 input.sk-toggleable__control:checked~label.sk-toggleable__label-arrow:before {content: \"▾\";}#sk-container-id-3 div.sk-estimator input.sk-toggleable__control:checked~label.sk-toggleable__label {background-color: #d4ebff;}#sk-container-id-3 div.sk-label input.sk-toggleable__control:checked~label.sk-toggleable__label {background-color: #d4ebff;}#sk-container-id-3 input.sk-hidden--visually {border: 0;clip: rect(1px 1px 1px 1px);clip: rect(1px, 1px, 1px, 1px);height: 1px;margin: -1px;overflow: hidden;padding: 0;position: absolute;width: 1px;}#sk-container-id-3 div.sk-estimator {font-family: monospace;background-color: #f0f8ff;border: 1px dotted black;border-radius: 0.25em;box-sizing: border-box;margin-bottom: 0.5em;}#sk-container-id-3 div.sk-estimator:hover {background-color: #d4ebff;}#sk-container-id-3 div.sk-parallel-item::after {content: \"\";width: 100%;border-bottom: 1px solid gray;flex-grow: 1;}#sk-container-id-3 div.sk-label:hover label.sk-toggleable__label {background-color: #d4ebff;}#sk-container-id-3 div.sk-serial::before {content: \"\";position: absolute;border-left: 1px solid gray;box-sizing: border-box;top: 0;bottom: 0;left: 50%;z-index: 0;}#sk-container-id-3 div.sk-serial {display: flex;flex-direction: column;align-items: center;background-color: white;padding-right: 0.2em;padding-left: 0.2em;position: relative;}#sk-container-id-3 div.sk-item {position: relative;z-index: 1;}#sk-container-id-3 div.sk-parallel {display: flex;align-items: stretch;justify-content: center;background-color: white;position: relative;}#sk-container-id-3 div.sk-item::before, #sk-container-id-3 div.sk-parallel-item::before {content: \"\";position: absolute;border-left: 1px solid gray;box-sizing: border-box;top: 0;bottom: 0;left: 50%;z-index: -1;}#sk-container-id-3 div.sk-parallel-item {display: flex;flex-direction: column;z-index: 1;position: relative;background-color: white;}#sk-container-id-3 div.sk-parallel-item:first-child::after {align-self: flex-end;width: 50%;}#sk-container-id-3 div.sk-parallel-item:last-child::after {align-self: flex-start;width: 50%;}#sk-container-id-3 div.sk-parallel-item:only-child::after {width: 0;}#sk-container-id-3 div.sk-dashed-wrapped {border: 1px dashed gray;margin: 0 0.4em 0.5em 0.4em;box-sizing: border-box;padding-bottom: 0.4em;background-color: white;}#sk-container-id-3 div.sk-label label {font-family: monospace;font-weight: bold;display: inline-block;line-height: 1.2em;}#sk-container-id-3 div.sk-label-container {text-align: center;}#sk-container-id-3 div.sk-container {/* jupyter's `normalize.less` sets `[hidden] { display: none; }` but bootstrap.min.css set `[hidden] { display: none !important; }` so we also need the `!important` here to be able to override the default hidden behavior on the sphinx rendered scikit-learn.org. See: https://github.com/scikit-learn/scikit-learn/issues/21755 */display: inline-block !important;position: relative;}#sk-container-id-3 div.sk-text-repr-fallback {display: none;}</style><div id=\"sk-container-id-3\" class=\"sk-top-container\"><div class=\"sk-text-repr-fallback\"><pre>SelectKBest(k=&#x27;all&#x27;,\n",
       "            score_func=&lt;function mutual_info_classif at 0x00000223F86A34C0&gt;)</pre><b>In a Jupyter environment, please rerun this cell to show the HTML representation or trust the notebook. <br />On GitHub, the HTML representation is unable to render, please try loading this page with nbviewer.org.</b></div><div class=\"sk-container\" hidden><div class=\"sk-item\"><div class=\"sk-estimator sk-toggleable\"><input class=\"sk-toggleable__control sk-hidden--visually\" id=\"sk-estimator-id-3\" type=\"checkbox\" checked><label for=\"sk-estimator-id-3\" class=\"sk-toggleable__label sk-toggleable__label-arrow\">SelectKBest</label><div class=\"sk-toggleable__content\"><pre>SelectKBest(k=&#x27;all&#x27;,\n",
       "            score_func=&lt;function mutual_info_classif at 0x00000223F86A34C0&gt;)</pre></div></div></div></div></div>"
      ],
      "text/plain": [
       "SelectKBest(k='all',\n",
       "            score_func=<function mutual_info_classif at 0x00000223F86A34C0>)"
      ]
     },
     "execution_count": 21,
     "metadata": {},
     "output_type": "execute_result"
    }
   ],
   "source": [
    "fs.fit(X, y)"
   ]
  },
  {
   "cell_type": "code",
   "execution_count": 22,
   "id": "8ec73196",
   "metadata": {},
   "outputs": [],
   "source": [
    "X_fs = fs.transform(X)"
   ]
  },
  {
   "cell_type": "markdown",
   "id": "2cbb7d6e",
   "metadata": {},
   "source": [
    "## f-test"
   ]
  },
  {
   "cell_type": "code",
   "execution_count": 23,
   "id": "262e0b63",
   "metadata": {},
   "outputs": [
    {
     "name": "stdout",
     "output_type": "stream",
     "text": [
      "Feature:  0  :  0.0015602859061292218\n",
      "Feature:  1  :  0.002705621168651695\n",
      "Feature:  2  :  0.004332900855532618\n",
      "Feature:  3  :  0.0010708875561519227\n",
      "Feature:  4  :  0.00018318929329774747\n",
      "Feature:  5  :  0.0010139896274361515\n",
      "Feature:  6  :  0.0008218536019028999\n",
      "Feature:  7  :  0.0011523213627363527\n",
      "Feature:  8  :  0.0012119559799153024\n",
      "Feature:  9  :  0.0009161620947700788\n",
      "Feature:  10  :  0.0006597334123917831\n",
      "Feature:  11  :  0.0008553123190504497\n",
      "Feature:  12  :  0.0006280580203668062\n",
      "Feature:  13  :  0.0\n",
      "Feature:  14  :  0.000584424939569006\n",
      "Feature:  15  :  0.001285049201460664\n",
      "Feature:  16  :  0.0005821551728437679\n",
      "Feature:  17  :  0.001636382232776179\n",
      "Feature:  18  :  0.0014265458817609433\n",
      "Feature:  19  :  0.001166696626624275\n",
      "Feature:  20  :  0.0006186538040398037\n",
      "Feature:  21  :  0.0019232517042547803\n",
      "Feature:  22  :  0.0007349172977777485\n",
      "Feature:  23  :  0.0007057050361543027\n",
      "Feature:  24  :  0.0014724850236473852\n",
      "Feature:  25  :  0.000652751117548922\n",
      "Feature:  26  :  0.0008379918028844635\n",
      "Feature:  27  :  0.002296081700820518\n",
      "Feature:  28  :  0.0010970177274208792\n",
      "Feature:  29  :  0.000744927046789079\n",
      "Feature:  30  :  0.000600618907871997\n",
      "Feature:  31  :  0.000274671254964165\n",
      "Feature:  32  :  0.0003286513899537491\n",
      "Feature:  33  :  0.0009044465865194473\n",
      "Feature:  34  :  0.0014205447463203624\n",
      "Feature:  35  :  0.000269159792020468\n",
      "Feature:  36  :  0.0015115454776921666\n",
      "Feature:  37  :  0.0007388568718509347\n",
      "Feature:  38  :  0.0018916256107950336\n",
      "Feature:  39  :  0.0011003254853835243\n",
      "Feature:  40  :  0.00019672458565511697\n",
      "Feature:  41  :  0.0011448790422992072\n",
      "Feature:  42  :  0.0034154742439367336\n",
      "Feature:  43  :  0.0015040035247868566\n",
      "Feature:  44  :  0.0010748660615019778\n",
      "Feature:  45  :  0.0016193428633879403\n",
      "Feature:  46  :  0.0017653939919058947\n",
      "Feature:  47  :  0.00026947538889987577\n",
      "Feature:  48  :  0.0007669781408494725\n",
      "Feature:  49  :  0.0010802067856245934\n",
      "Feature:  50  :  0.004526786270406258\n",
      "Feature:  51  :  0.0012008827552134616\n",
      "Feature:  52  :  0.0016446244861504367\n",
      "Feature:  53  :  0.0020211736764772503\n",
      "Feature:  54  :  0.002133457068421274\n",
      "Feature:  55  :  0.0006771205060907004\n",
      "Feature:  56  :  0.0005136888276466856\n",
      "Feature:  57  :  0.0\n",
      "Feature:  58  :  0.0019077144368269128\n"
     ]
    }
   ],
   "source": [
    "for i in range(len(fs.scores_)):\n",
    "    print('Feature: ', i, ' : ', fs.scores_[i])"
   ]
  },
  {
   "cell_type": "markdown",
   "id": "0d3a718a",
   "metadata": {},
   "source": [
    "## feature selecting only if f_test > 1"
   ]
  },
  {
   "cell_type": "code",
   "execution_count": 26,
   "id": "3aeccc53",
   "metadata": {},
   "outputs": [
    {
     "name": "stdout",
     "output_type": "stream",
     "text": [
      "Feature  1  :  0.002705621168651695\n",
      "Feature  2  :  0.004332900855532618\n",
      "Feature  27  :  0.002296081700820518\n",
      "Feature  42  :  0.0034154742439367336\n",
      "Feature  50  :  0.004526786270406258\n",
      "Feature  53  :  0.0020211736764772503\n",
      "Feature  54  :  0.002133457068421274\n"
     ]
    }
   ],
   "source": [
    "for i in range(len(fs.scores_)):\n",
    "    if(fs.scores_[i] > 0.002):\n",
    "        print('Feature ', i, \" : \", fs.scores_[i])"
   ]
  },
  {
   "cell_type": "markdown",
   "id": "ce7d1fab",
   "metadata": {},
   "source": [
    "#### based on mutual info test ----- x2, x3, x28, x43, x51, x54,x55"
   ]
  },
  {
   "cell_type": "markdown",
   "id": "4bc6e2a5",
   "metadata": {},
   "source": [
    "## anova testing"
   ]
  },
  {
   "cell_type": "code",
   "execution_count": 27,
   "id": "472041eb",
   "metadata": {},
   "outputs": [],
   "source": [
    "fs = SelectKBest(score_func=f_classif, k='all')"
   ]
  },
  {
   "cell_type": "code",
   "execution_count": 28,
   "id": "816accea",
   "metadata": {},
   "outputs": [
    {
     "name": "stderr",
     "output_type": "stream",
     "text": [
      "C:\\Users\\mehul\\anaconda3\\lib\\site-packages\\sklearn\\utils\\validation.py:1183: DataConversionWarning: A column-vector y was passed when a 1d array was expected. Please change the shape of y to (n_samples, ), for example using ravel().\n",
      "  y = column_or_1d(y, warn=True)\n"
     ]
    },
    {
     "data": {
      "text/html": [
       "<style>#sk-container-id-4 {color: black;}#sk-container-id-4 pre{padding: 0;}#sk-container-id-4 div.sk-toggleable {background-color: white;}#sk-container-id-4 label.sk-toggleable__label {cursor: pointer;display: block;width: 100%;margin-bottom: 0;padding: 0.3em;box-sizing: border-box;text-align: center;}#sk-container-id-4 label.sk-toggleable__label-arrow:before {content: \"▸\";float: left;margin-right: 0.25em;color: #696969;}#sk-container-id-4 label.sk-toggleable__label-arrow:hover:before {color: black;}#sk-container-id-4 div.sk-estimator:hover label.sk-toggleable__label-arrow:before {color: black;}#sk-container-id-4 div.sk-toggleable__content {max-height: 0;max-width: 0;overflow: hidden;text-align: left;background-color: #f0f8ff;}#sk-container-id-4 div.sk-toggleable__content pre {margin: 0.2em;color: black;border-radius: 0.25em;background-color: #f0f8ff;}#sk-container-id-4 input.sk-toggleable__control:checked~div.sk-toggleable__content {max-height: 200px;max-width: 100%;overflow: auto;}#sk-container-id-4 input.sk-toggleable__control:checked~label.sk-toggleable__label-arrow:before {content: \"▾\";}#sk-container-id-4 div.sk-estimator input.sk-toggleable__control:checked~label.sk-toggleable__label {background-color: #d4ebff;}#sk-container-id-4 div.sk-label input.sk-toggleable__control:checked~label.sk-toggleable__label {background-color: #d4ebff;}#sk-container-id-4 input.sk-hidden--visually {border: 0;clip: rect(1px 1px 1px 1px);clip: rect(1px, 1px, 1px, 1px);height: 1px;margin: -1px;overflow: hidden;padding: 0;position: absolute;width: 1px;}#sk-container-id-4 div.sk-estimator {font-family: monospace;background-color: #f0f8ff;border: 1px dotted black;border-radius: 0.25em;box-sizing: border-box;margin-bottom: 0.5em;}#sk-container-id-4 div.sk-estimator:hover {background-color: #d4ebff;}#sk-container-id-4 div.sk-parallel-item::after {content: \"\";width: 100%;border-bottom: 1px solid gray;flex-grow: 1;}#sk-container-id-4 div.sk-label:hover label.sk-toggleable__label {background-color: #d4ebff;}#sk-container-id-4 div.sk-serial::before {content: \"\";position: absolute;border-left: 1px solid gray;box-sizing: border-box;top: 0;bottom: 0;left: 50%;z-index: 0;}#sk-container-id-4 div.sk-serial {display: flex;flex-direction: column;align-items: center;background-color: white;padding-right: 0.2em;padding-left: 0.2em;position: relative;}#sk-container-id-4 div.sk-item {position: relative;z-index: 1;}#sk-container-id-4 div.sk-parallel {display: flex;align-items: stretch;justify-content: center;background-color: white;position: relative;}#sk-container-id-4 div.sk-item::before, #sk-container-id-4 div.sk-parallel-item::before {content: \"\";position: absolute;border-left: 1px solid gray;box-sizing: border-box;top: 0;bottom: 0;left: 50%;z-index: -1;}#sk-container-id-4 div.sk-parallel-item {display: flex;flex-direction: column;z-index: 1;position: relative;background-color: white;}#sk-container-id-4 div.sk-parallel-item:first-child::after {align-self: flex-end;width: 50%;}#sk-container-id-4 div.sk-parallel-item:last-child::after {align-self: flex-start;width: 50%;}#sk-container-id-4 div.sk-parallel-item:only-child::after {width: 0;}#sk-container-id-4 div.sk-dashed-wrapped {border: 1px dashed gray;margin: 0 0.4em 0.5em 0.4em;box-sizing: border-box;padding-bottom: 0.4em;background-color: white;}#sk-container-id-4 div.sk-label label {font-family: monospace;font-weight: bold;display: inline-block;line-height: 1.2em;}#sk-container-id-4 div.sk-label-container {text-align: center;}#sk-container-id-4 div.sk-container {/* jupyter's `normalize.less` sets `[hidden] { display: none; }` but bootstrap.min.css set `[hidden] { display: none !important; }` so we also need the `!important` here to be able to override the default hidden behavior on the sphinx rendered scikit-learn.org. See: https://github.com/scikit-learn/scikit-learn/issues/21755 */display: inline-block !important;position: relative;}#sk-container-id-4 div.sk-text-repr-fallback {display: none;}</style><div id=\"sk-container-id-4\" class=\"sk-top-container\"><div class=\"sk-text-repr-fallback\"><pre>SelectKBest(k=&#x27;all&#x27;)</pre><b>In a Jupyter environment, please rerun this cell to show the HTML representation or trust the notebook. <br />On GitHub, the HTML representation is unable to render, please try loading this page with nbviewer.org.</b></div><div class=\"sk-container\" hidden><div class=\"sk-item\"><div class=\"sk-estimator sk-toggleable\"><input class=\"sk-toggleable__control sk-hidden--visually\" id=\"sk-estimator-id-4\" type=\"checkbox\" checked><label for=\"sk-estimator-id-4\" class=\"sk-toggleable__label sk-toggleable__label-arrow\">SelectKBest</label><div class=\"sk-toggleable__content\"><pre>SelectKBest(k=&#x27;all&#x27;)</pre></div></div></div></div></div>"
      ],
      "text/plain": [
       "SelectKBest(k='all')"
      ]
     },
     "execution_count": 28,
     "metadata": {},
     "output_type": "execute_result"
    }
   ],
   "source": [
    "fs.fit(X, y)"
   ]
  },
  {
   "cell_type": "code",
   "execution_count": 29,
   "id": "c609aaa6",
   "metadata": {},
   "outputs": [],
   "source": [
    "X_fs = fs.transform(X)"
   ]
  },
  {
   "cell_type": "code",
   "execution_count": 30,
   "id": "2c51feca",
   "metadata": {},
   "outputs": [
    {
     "name": "stdout",
     "output_type": "stream",
     "text": [
      "Feature  0  :  0.15344238499701665\n",
      "Feature  1  :  57.1767258738889\n",
      "Feature  2  :  108.24243962843035\n",
      "Feature  3  :  2.0532707586122547\n",
      "Feature  4  :  0.2104363463357626\n",
      "Feature  5  :  10.50330191992245\n",
      "Feature  6  :  0.5756914928043764\n",
      "Feature  7  :  3.621079011390762\n",
      "Feature  8  :  2.800999408403933\n",
      "Feature  9  :  0.15897312822852533\n",
      "Feature  10  :  3.0341335126304383\n",
      "Feature  11  :  12.303881735851498\n",
      "Feature  12  :  11.664602629708462\n",
      "Feature  13  :  19.528662420382165\n",
      "Feature  14  :  0.01002088978684969\n",
      "Feature  15  :  14.592800099591773\n",
      "Feature  16  :  0.440961212721958\n",
      "Feature  17  :  0.2784707381142797\n",
      "Feature  18  :  0.026945268368092152\n",
      "Feature  19  :  39.30769230769231\n",
      "Feature  20  :  7.631172020688719\n",
      "Feature  21  :  0.9478211754613863\n",
      "Feature  22  :  2.627715506574651\n",
      "Feature  23  :  0.5901873612969261\n",
      "Feature  24  :  1.0449699070828418\n",
      "Feature  25  :  13.266578468158908\n",
      "Feature  26  :  6.994215249713563\n",
      "Feature  27  :  0.4497571647920871\n",
      "Feature  28  :  31.532920303366915\n",
      "Feature  29  :  0.43473924594340674\n",
      "Feature  30  :  1.9926898061668548\n",
      "Feature  31  :  3.032016027808047\n",
      "Feature  32  :  0.25992627643433447\n",
      "Feature  33  :  15.065571599020775\n",
      "Feature  34  :  2.2215780503938873\n",
      "Feature  35  :  10.179251222108014\n",
      "Feature  36  :  13.029801063376464\n",
      "Feature  37  :  0.7839228067890813\n",
      "Feature  38  :  0.3921069337566257\n",
      "Feature  39  :  17.310222437400473\n",
      "Feature  40  :  0.0025619673364117956\n",
      "Feature  41  :  17.285838786827757\n",
      "Feature  42  :  -0.0\n",
      "Feature  43  :  0.06563044086420167\n",
      "Feature  44  :  5.024557957618615\n",
      "Feature  45  :  0.9363262585275172\n",
      "Feature  46  :  12.663911622587127\n",
      "Feature  47  :  0.2893259123748362\n",
      "Feature  48  :  1.599982269307598\n",
      "Feature  49  :  3.989520433415235\n",
      "Feature  50  :  -17.009708737864077\n",
      "Feature  51  :  7.210676937776781\n",
      "Feature  52  :  8.169386345382652\n",
      "Feature  53  :  11.06347608154769\n",
      "Feature  54  :  9.701066840394619\n",
      "Feature  55  :  1.620564068040013\n",
      "Feature  56  :  0.4144656948100439\n",
      "Feature  57  :  1.5547499910456806\n",
      "Feature  58  :  1.5803759228096652\n"
     ]
    }
   ],
   "source": [
    "for i in range(len(fs.scores_)):\n",
    "    print('Feature ', i, \" : \", fs.scores_[i])"
   ]
  },
  {
   "cell_type": "markdown",
   "id": "812bb151",
   "metadata": {},
   "source": [
    "## feature selecting only if f_test > 20"
   ]
  },
  {
   "cell_type": "code",
   "execution_count": 32,
   "id": "3a3397d7",
   "metadata": {},
   "outputs": [
    {
     "name": "stdout",
     "output_type": "stream",
     "text": [
      "Feature  1  :  57.1767258738889\n",
      "Feature  2  :  108.24243962843035\n",
      "Feature  13  :  19.528662420382165\n",
      "Feature  19  :  39.30769230769231\n",
      "Feature  28  :  31.532920303366915\n",
      "Feature  33  :  15.065571599020775\n",
      "Feature  39  :  17.310222437400473\n",
      "Feature  41  :  17.285838786827757\n"
     ]
    }
   ],
   "source": [
    "for i in range(len(fs.scores_)):\n",
    "    if(fs.scores_[i] > 15):\n",
    "        print('Feature ', i, \" : \", fs.scores_[i])"
   ]
  },
  {
   "cell_type": "markdown",
   "id": "3fc67fe8",
   "metadata": {},
   "source": [
    "#### based on anova test ---- x2, x3,x14,x20,x29,x34,x40,x42"
   ]
  },
  {
   "cell_type": "markdown",
   "id": "3253031b",
   "metadata": {},
   "source": [
    "## SMOTE Analysis --- Processing Data"
   ]
  },
  {
   "cell_type": "code",
   "execution_count": 33,
   "id": "6f3fe15f",
   "metadata": {},
   "outputs": [],
   "source": [
    "from imblearn.over_sampling import SMOTE"
   ]
  },
  {
   "cell_type": "code",
   "execution_count": 34,
   "id": "138ebe87",
   "metadata": {},
   "outputs": [],
   "source": [
    "smt = SMOTE()"
   ]
  },
  {
   "cell_type": "code",
   "execution_count": 35,
   "id": "594e33da",
   "metadata": {},
   "outputs": [],
   "source": [
    "X = df_input[['x2', 'x3', 'x14', 'x20', 'x29', 'x34', 'x40', 'x42', 'x28', 'x43', 'x51', 'x54', 'x55']].values"
   ]
  },
  {
   "cell_type": "code",
   "execution_count": 36,
   "id": "a3923ae9",
   "metadata": {},
   "outputs": [],
   "source": [
    "X_smt, y_smt = smt.fit_resample(X, y)"
   ]
  },
  {
   "cell_type": "code",
   "execution_count": 37,
   "id": "e4f5479d",
   "metadata": {},
   "outputs": [
    {
     "data": {
      "text/plain": [
       "array([[-2.15823480e+00, -3.53705430e+00, -2.87747000e-02, ...,\n",
       "         2.99846242e+01,  4.87779820e-01, -2.45901460e+01],\n",
       "       [-2.15823480e+00, -3.53705430e+00, -2.87747000e-02, ...,\n",
       "         2.99846242e+01,  4.87779820e-01, -3.24132660e+01],\n",
       "       [-2.15823480e+00, -3.53705430e+00, -2.87747000e-02, ...,\n",
       "         2.99846242e+01,  4.87779820e-01, -3.41837740e+01],\n",
       "       ...,\n",
       "       [-1.41715088e+00, -3.53705430e+00, -2.87747000e-02, ...,\n",
       "         2.99846242e+01,  4.87779820e-01, -4.00500455e+01],\n",
       "       [-1.70264287e+00, -3.53705430e+00, -2.87747000e-02, ...,\n",
       "         2.99846242e+01,  4.87779820e-01, -4.00500455e+01],\n",
       "       [-2.15823480e+00, -3.53705430e+00, -2.87747000e-02, ...,\n",
       "         2.99846242e+01,  4.87779820e-01, -4.00500455e+01]])"
      ]
     },
     "execution_count": 37,
     "metadata": {},
     "output_type": "execute_result"
    }
   ],
   "source": [
    "X_smt"
   ]
  },
  {
   "cell_type": "code",
   "execution_count": 38,
   "id": "79b5cc73",
   "metadata": {},
   "outputs": [
    {
     "data": {
      "text/plain": [
       "array([0, 0, 0, ..., 1, 1, 1], dtype=int64)"
      ]
     },
     "execution_count": 38,
     "metadata": {},
     "output_type": "execute_result"
    }
   ],
   "source": [
    "y_smt"
   ]
  },
  {
   "cell_type": "code",
   "execution_count": 40,
   "id": "b3729b42",
   "metadata": {},
   "outputs": [],
   "source": [
    "df_input[['x2', 'x3', 'x14', 'x20', 'x29', 'x34', 'x40', 'x42', 'x28', 'x43', 'x51', 'x54', 'x55']].to_excel(\"../data/processed_input.xlsx\")"
   ]
  },
  {
   "cell_type": "code",
   "execution_count": null,
   "id": "28113b67",
   "metadata": {},
   "outputs": [],
   "source": []
  }
 ],
 "metadata": {
  "kernelspec": {
   "display_name": "Python 3",
   "language": "python",
   "name": "python3"
  },
  "language_info": {
   "codemirror_mode": {
    "name": "ipython",
    "version": 3
   },
   "file_extension": ".py",
   "mimetype": "text/x-python",
   "name": "python",
   "nbconvert_exporter": "python",
   "pygments_lexer": "ipython3",
   "version": "3.8.8"
  }
 },
 "nbformat": 4,
 "nbformat_minor": 5
}
